{
  "nbformat": 4,
  "nbformat_minor": 0,
  "metadata": {
    "colab": {
      "provenance": [],
      "gpuType": "T4"
    },
    "kernelspec": {
      "name": "python3",
      "display_name": "Python 3"
    },
    "language_info": {
      "name": "python"
    },
    "accelerator": "GPU"
  },
  "cells": [
    {
      "cell_type": "code",
      "execution_count": 22,
      "metadata": {
        "id": "MelTCUBRjGsk"
      },
      "outputs": [],
      "source": [
        "import torch\n",
        "import torchvision\n",
        "import torchvision.datasets as dataset\n",
        "from torchvision.transforms import ToTensor\n",
        "import torch.nn as nn\n",
        "import matplotlib.pyplot as plt\n",
        "from torch import optim\n",
        "from torch.autograd import Variable"
      ]
    },
    {
      "cell_type": "code",
      "source": [
        "device = torch.device('cuda' if torch.cuda.is_available() else 'cpu')\n",
        "print(f\"Using device: {device}\")"
      ],
      "metadata": {
        "id": "YE0odreQg67I"
      },
      "execution_count": null,
      "outputs": []
    },
    {
      "cell_type": "code",
      "source": [
        "train_data= dataset.MNIST(\n",
        "    root='./data',\n",
        "    train=True,\n",
        "    download=True,\n",
        "    transform=ToTensor())\n",
        "\n",
        "test_data= dataset.MNIST(\n",
        "    root='./data' ,\n",
        "    train=False,\n",
        "    download=True,\n",
        "    transform=ToTensor())"
      ],
      "metadata": {
        "id": "eLHK-h5Rkwtg"
      },
      "execution_count": 24,
      "outputs": []
    },
    {
      "cell_type": "code",
      "source": [
        "print(\"Training dataset: \\n {}\".format(train_data))"
      ],
      "metadata": {
        "id": "uCY6MoQ-k3bw"
      },
      "execution_count": null,
      "outputs": []
    },
    {
      "cell_type": "code",
      "source": [
        "print(\"Testing dataset:\\n {}\".format(test_data))"
      ],
      "metadata": {
        "id": "K-W7lgA4k3fM"
      },
      "execution_count": null,
      "outputs": []
    },
    {
      "cell_type": "code",
      "source": [
        "plt.imshow(train_data.data[2], cmap= 'gray')\n",
        "plt.title('%i' % train_data.targets[2])\n",
        "plt.axis(\"off\")\n",
        "plt.show()"
      ],
      "metadata": {
        "colab": {
          "base_uri": "https://localhost:8080/",
          "height": 428
        },
        "id": "iq5O_UC3lvk5",
        "outputId": "9bb86c3e-ab32-4c9d-9526-336814cee7d6"
      },
      "execution_count": 27,
      "outputs": [
        {
          "output_type": "display_data",
          "data": {
            "text/plain": [
              "<Figure size 640x480 with 1 Axes>"
            ],
            "image/png": "[encoded data removed]"
          },
          "metadata": {}
        }
      ]
    },
    {
      "cell_type": "code",
      "source": [
        "loaders = {\n",
        "    'train' : torch.utils.data.DataLoader(train_data,\n",
        "                                          batch_size=100,\n",
        "                                          shuffle=True,\n",
        "                                          num_workers=1),\n",
        "    'test': torch.utils.data.DataLoader(test_data,\n",
        "                                        batch_size=100,\n",
        "                                        shuffle=True,\n",
        "                                        num_workers=1)\n",
        "}"
      ],
      "metadata": {
        "id": "hK7Y4HtjlvnD"
      },
      "execution_count": 28,
      "outputs": []
    },
    {
      "cell_type": "code",
      "source": [
        "class CNN(nn.Module):\n",
        "  def __init__(self):\n",
        "    super(CNN,self).__init__()\n",
        "\n",
        "    self.conv1 = nn.Sequential(\n",
        "        nn.Conv2d(\n",
        "            in_channels=1,\n",
        "            out_channels=16,\n",
        "            kernel_size=5,\n",
        "            stride=1,\n",
        "            padding=2\n",
        "        ),\n",
        "        nn.ReLU(),\n",
        "        nn.MaxPool2d(kernel_size=2)\n",
        "    )\n",
        "\n",
        "    self.conv2 =nn.Sequential(\n",
        "        nn.Conv2d(16,32,5,1,2),\n",
        "        nn.ReLU(),\n",
        "        nn.MaxPool2d(2)\n",
        "    )\n",
        "\n",
        "    self.out= nn.Linear(32*7*7,10)\n",
        "\n",
        "  def forward(self, x):\n",
        "        x = self.conv1(x)\n",
        "        x = self.conv2(x)\n",
        "        # flatten the output of conv2 to (batch_size, 32 * 7 * 7)\n",
        "        x = x.view(x.size(0), -1)\n",
        "        output = self.out(x)\n",
        "        return output, x"
      ],
      "metadata": {
        "id": "cL1HnYVTlvoE"
      },
      "execution_count": 29,
      "outputs": []
    },
    {
      "cell_type": "code",
      "source": [
        "cnn1=CNN()\n",
        "cnn2=CNN()\n",
        "cnn3=CNN()\n",
        "cnn4=CNN()\n",
        "cnn5=CNN()"
      ],
      "metadata": {
        "id": "hjEc4UfYlvrm"
      },
      "execution_count": 30,
      "outputs": []
    },
    {
      "cell_type": "code",
      "source": [
        "loss_func=nn.CrossEntropyLoss()"
      ],
      "metadata": {
        "id": "_4p3npM_nQLe"
      },
      "execution_count": 31,
      "outputs": []
    },
    {
      "cell_type": "code",
      "source": [
        "adamOptimizer=optim.Adam(cnn1.parameters(),lr=0.00001)\n",
        "SGDOptimizer=optim.SGD(cnn2.parameters(),lr=0.00001)\n",
        "SGDMomentumOptimizer = optim.SGD(cnn3.parameters(), lr=0.00001, momentum=0.9)\n",
        "AdagradOptimizer=optim.Adagrad(cnn4.parameters(),lr=0.00001)\n",
        "RMSpropOptimizer=optim.RMSprop(cnn5.parameters(),lr=0.00001)"
      ],
      "metadata": {
        "id": "ljQLeO7jnQNN"
      },
      "execution_count": 32,
      "outputs": []
    },
    {
      "cell_type": "code",
      "source": [
        "epochs=30"
      ],
      "metadata": {
        "id": "3k5H3aPznQOx"
      },
      "execution_count": 33,
      "outputs": []
    },
    {
      "cell_type": "code",
      "source": [
        "def train(epochs,cnn,loaders,optimizer):\n",
        "  losses=[]\n",
        "  cnn.to(device)\n",
        "  cnn.train()\n",
        "  total_step=len(loaders['train'])\n",
        "\n",
        "\n",
        "  for epoch in range(epochs):\n",
        "    for i,(images,labels) in enumerate(loaders['train']):\n",
        "      b_x= Variable(images.to(device))\n",
        "      b_y= Variable(labels.to(device))\n",
        "\n",
        "      output= cnn(b_x)[0]\n",
        "\n",
        "      loss= loss_func(output,b_y)\n",
        "      if (i + 1) == total_step:\n",
        "                losses.append(loss.item())\n",
        "\n",
        "\n",
        "      optimizer.zero_grad()\n",
        "\n",
        "      loss.backward()\n",
        "\n",
        "      optimizer.step()\n",
        "\n",
        "      if (i+1)%100==0:\n",
        "        print('Epoch [{}/{}], Step [{}/{}], Loss:{:.4f}'.format(epoch+1,epochs,i+1, total_step, loss.item()))\n",
        "        pass\n",
        "      pass\n",
        "    pass\n",
        "\n",
        "  plt.plot(range(1,epochs+1), losses)\n",
        "  plt.title(f'Loss vs Epoch')\n",
        "  plt.ylabel('Loss')\n",
        "  plt.xlabel('epoch')"
      ],
      "metadata": {
        "id": "4OYpO4PrnQQf"
      },
      "execution_count": 34,
      "outputs": []
    },
    {
      "cell_type": "code",
      "source": [
        "def test(cnn):\n",
        "  cnn.eval()\n",
        "  cnn.to(device)\n",
        "  with torch.no_grad():\n",
        "    correct=0\n",
        "    total=0\n",
        "    for images, labels in loaders['test']:\n",
        "      images = images.to(device) # Move data to device\n",
        "      labels = labels.to(device)\n",
        "      test_output, last_layer= cnn(images)\n",
        "      pred_y= torch.max(test_output,1)[1].data.squeeze()\n",
        "      accuracy = (pred_y == labels).sum().item()/float(labels.size(0))\n",
        "      pass\n",
        "    print('Test accuracy of the model on the 10000 test images: %.2f' % accuracy)\n",
        "    pass"
      ],
      "metadata": {
        "id": "K8lk7mqbzqGY"
      },
      "execution_count": 35,
      "outputs": []
    },
    {
      "cell_type": "markdown",
      "source": [
        "**Adam Optimizer**"
      ],
      "metadata": {
        "id": "PajcB4s609-Q"
      }
    },
    {
      "cell_type": "code",
      "source": [
        "train(epochs,cnn1, loaders, adamOptimizer)"
      ],
      "metadata": {
        "id": "8p7biASYnQT7"
      },
      "execution_count": null,
      "outputs": []
    },
    {
      "cell_type": "code",
      "source": [
        "test(cnn1)"
      ],
      "metadata": {
        "id": "8OapYqyvzqJ4"
      },
      "execution_count": null,
      "outputs": []
    },
    {
      "cell_type": "markdown",
      "source": [
        "**SGD Optimizer**"
      ],
      "metadata": {
        "id": "6fId4ICq1Nqj"
      }
    },
    {
      "cell_type": "code",
      "source": [
        "train(epochs,cnn2, loaders, SGDOptimizer)"
      ],
      "metadata": {
        "id": "34e8TCk91U7X"
      },
      "execution_count": null,
      "outputs": []
    },
    {
      "cell_type": "code",
      "source": [
        "test(cnn2)"
      ],
      "metadata": {
        "id": "yaBLTSVYt2EI"
      },
      "execution_count": null,
      "outputs": []
    },
    {
      "cell_type": "markdown",
      "source": [
        "**SGD with Momentum**"
      ],
      "metadata": {
        "id": "Qrvsc4BG3j4Y"
      }
    },
    {
      "cell_type": "code",
      "source": [
        "train(epochs,cnn3, loaders, SGDMomentumOptimizer)"
      ],
      "metadata": {
        "id": "pehtfs0V3ntB"
      },
      "execution_count": null,
      "outputs": []
    },
    {
      "cell_type": "code",
      "source": [
        "test(cnn3)"
      ],
      "metadata": {
        "id": "gc4WVFlp4spJ"
      },
      "execution_count": null,
      "outputs": []
    },
    {
      "cell_type": "markdown",
      "source": [
        "**Adagrad Optimizer**"
      ],
      "metadata": {
        "id": "KfUDzGnWZhxo"
      }
    },
    {
      "cell_type": "code",
      "source": [
        "train(epochs,cnn4, loaders, AdagradOptimizer)"
      ],
      "metadata": {
        "id": "TVADv1zdZj1A"
      },
      "execution_count": null,
      "outputs": []
    },
    {
      "cell_type": "code",
      "source": [
        "test(cnn4)"
      ],
      "metadata": {
        "id": "-Q7BRyYY8kKO"
      },
      "execution_count": null,
      "outputs": []
    },
    {
      "cell_type": "markdown",
      "source": [
        "**RMSprop Optimizer**"
      ],
      "metadata": {
        "id": "fLIczb5kdUho"
      }
    },
    {
      "cell_type": "code",
      "source": [
        "train(epochs,cnn5, loaders, RMSpropOptimizer)"
      ],
      "metadata": {
        "id": "mjna_wsodgx9"
      },
      "execution_count": null,
      "outputs": []
    },
    {
      "cell_type": "code",
      "source": [
        "test(cnn5)"
      ],
      "metadata": {
        "id": "YoyPULwa8pCW"
      },
      "execution_count": null,
      "outputs": []
    }
  ]
}